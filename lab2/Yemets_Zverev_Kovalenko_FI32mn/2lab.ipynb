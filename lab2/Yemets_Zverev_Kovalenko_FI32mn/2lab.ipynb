{
  "cells": [
    {
      "cell_type": "code",
      "execution_count": null,
      "metadata": {
        "colab": {
          "base_uri": "https://localhost:8080/"
        },
        "id": "0gSqZW4791O6",
        "outputId": "835054f8-bf17-4634-ad1b-0d805e22c436"
      },
      "outputs": [],
      "source": [
        "import random\n",
        "from sympy import isprime, primerange\n",
        "\n",
        "class CryptoLibrary:\n",
        "    def generate_random_number(self, bit_length):\n",
        "        \"\"\"Генерує псевдовипадкове число заданої довжини в бітах.\"\"\"\n",
        "        return random.getrandbits(bit_length)\n",
        "\n",
        "    def is_prime(self, n):\n",
        "        \"\"\"Перевіряє, чи є число простим.\"\"\"\n",
        "        return isprime(n)\n",
        "\n",
        "    def generate_prime_number(self, bit_length):\n",
        "        \"\"\"Генерує просте число заданої довжини в бітах.\"\"\"\n",
        "        prime_candidate = 4  # починаємо з не простого числа\n",
        "        while not self.is_prime(prime_candidate):\n",
        "            prime_candidate = self.generate_random_number(bit_length)\n",
        "        return prime_candidate\n",
        "\n",
        "# Створення екземпляра бібліотеки\n",
        "crypto_lib = CryptoLibrary()\n",
        "\n",
        "# Генерація псевдовипадкового числа з довжиною 768 біт\n",
        "random_number_768 = crypto_lib.generate_random_number(768)\n",
        "\n",
        "# Генерація простого числа з довжиною 1024 біти\n",
        "prime_number_1024 = crypto_lib.generate_prime_number(1024)\n",
        "\n",
        "print(f\"Псевдовипадкове число (768 біт): {random_number_768}\")\n",
        "print(f\"Просте число (1024 біти): {prime_number_1024}\")\n",
        "\n"
      ]
    },
    {
      "cell_type": "code",
      "execution_count": null,
      "metadata": {
        "colab": {
          "base_uri": "https://localhost:8080/"
        },
        "id": "fWiuvJnNsIyE",
        "outputId": "91242ff6-1b9f-4643-ccc7-579656d82f44"
      },
      "outputs": [
        {
          "name": "stdout",
          "output_type": "stream",
          "text": [
            "False\n"
          ]
        }
      ],
      "source": [
        "# Miller-Rabin test\n",
        "import random\n",
        "\n",
        "def Miller_Rabin_Test(p, k):\n",
        "  p_copy = p - 1\n",
        "  s = 0\n",
        "  while p_copy%2==0:\n",
        "    s = s + 1 # степень двойки\n",
        "    p_copy = p_copy//2\n",
        "  d = p_copy #число d\n",
        "  for i in range(k):\n",
        "    random_number = random.randrange(2,p-1)\n",
        "    x = pow(random_number, d, p)\n",
        "    if x==1 or x==p-1:\n",
        "      continue\n",
        "    for j in range(s-1):\n",
        "      x = pow(x,2,p)\n",
        "      if x == p-1:\n",
        "        break\n",
        "    else:\n",
        "      return False\n",
        "  return True\n",
        "\n",
        "print(Miller_Rabin_Test(45,9))"
      ]
    }
  ],
  "metadata": {
    "colab": {
      "provenance": []
    },
    "kernelspec": {
      "display_name": "Python 3",
      "name": "python3"
    },
    "language_info": {
      "codemirror_mode": {
        "name": "ipython",
        "version": 3
      },
      "file_extension": ".py",
      "mimetype": "text/x-python",
      "name": "python",
      "nbconvert_exporter": "python",
      "pygments_lexer": "ipython3",
      "version": "3.11.5"
    }
  },
  "nbformat": 4,
  "nbformat_minor": 0
}
