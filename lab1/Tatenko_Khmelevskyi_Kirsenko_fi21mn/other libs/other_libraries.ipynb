{
 "cells": [
  {
   "cell_type": "code",
   "execution_count": 10,
   "id": "1be51658",
   "metadata": {},
   "outputs": [],
   "source": [
    "import codecs\n",
    "import time\n",
    "\n",
    "fileObj = codecs.open( \"input_rsa.txt\", \"r\", \"utf_8_sig\" )\n",
    "text_rsa = fileObj.read()\n",
    "fileObj.close()\n",
    "\n",
    "fileObj = codecs.open( \"input.txt\", \"r\", \"utf_8_sig\" )\n",
    "text = fileObj.read()\n",
    "fileObj.close()"
   ]
  },
  {
   "cell_type": "code",
   "execution_count": 11,
   "id": "645b1945",
   "metadata": {},
   "outputs": [
    {
     "name": "stdout",
     "output_type": "stream",
     "text": [
      "Encryption time: 0.0019941329956054688 seconds\n",
      "Decryption time: 0.5445477962493896 seconds\n"
     ]
    }
   ],
   "source": [
    "from rsa_python import rsa\n",
    "key_pair = rsa.generate_key_pair(1024)\n",
    "\n",
    "start = time.time()\n",
    "cipher = rsa.encrypt(text_rsa, key_pair[\"public\"], key_pair[\"modulus\"])\n",
    "end = time.time()\n",
    "encryption_time = end - start\n",
    "\n",
    "start = time.time()\n",
    "decrypted_message = rsa.decrypt(cipher, key_pair[\"private\"], key_pair[\"modulus\"])\n",
    "end = time.time()\n",
    "decryption_time = end - start\n",
    "\n",
    "print(f\"Encryption time: {encryption_time} seconds\")\n",
    "print(f\"Decryption time: {decryption_time} seconds\")"
   ]
  },
  {
   "cell_type": "code",
   "execution_count": 12,
   "id": "0639c15f",
   "metadata": {},
   "outputs": [
    {
     "name": "stdout",
     "output_type": "stream",
     "text": [
      "Hash: 038d3b396bbd6c5b06d5640e9586629dc7e876583728c04bb5c007b271396218\n",
      "Hash time: 0.0059893131256103516 seconds\n"
     ]
    }
   ],
   "source": [
    "from hashlib import sha256\n",
    "\n",
    "start = time.time()\n",
    "res = sha256(text.encode('utf-8')).hexdigest()\n",
    "end = time.time()\n",
    "hash_time = end - start\n",
    "print(f\"Hash: {res}\")\n",
    "print(f\"Hash time: {hash_time} seconds\")"
   ]
  },
  {
   "cell_type": "code",
   "execution_count": 13,
   "id": "77fc09a3",
   "metadata": {},
   "outputs": [
    {
     "name": "stdout",
     "output_type": "stream",
     "text": [
      "Encryption time: 0.003027677536010742 seconds\n",
      "Decryption time: 0.004984617233276367 seconds\n"
     ]
    }
   ],
   "source": [
    "import os\n",
    "from cryptography.hazmat.primitives.ciphers import Cipher, algorithms, modes\n",
    "\n",
    "new_text = bytes(text + \" \" * 9,'UTF-8')\n",
    "key = os.urandom(32)\n",
    "iv = os.urandom(16)\n",
    "cipher = Cipher(algorithms.AES(key), modes.CBC(iv))\n",
    "\n",
    "start = time.time()\n",
    "encryptor = cipher.encryptor()\n",
    "ct = encryptor.update(new_text) + encryptor.finalize()\n",
    "end = time.time()\n",
    "encryption_time = end - start\n",
    "\n",
    "start = time.time()\n",
    "decryptor = cipher.decryptor()\n",
    "dec = decryptor.update(ct) + decryptor.finalize()\n",
    "text2 = dec.decode('utf-8')\n",
    "end = time.time()\n",
    "decryption_time = end - start\n",
    "\n",
    "print(f\"Encryption time: {encryption_time} seconds\")\n",
    "print(f\"Decryption time: {decryption_time} seconds\")"
   ]
  }
 ],
 "metadata": {
  "kernelspec": {
   "display_name": "Python 3 (ipykernel)",
   "language": "python",
   "name": "python3"
  },
  "language_info": {
   "codemirror_mode": {
    "name": "ipython",
    "version": 3
   },
   "file_extension": ".py",
   "mimetype": "text/x-python",
   "name": "python",
   "nbconvert_exporter": "python",
   "pygments_lexer": "ipython3",
   "version": "3.9.13"
  }
 },
 "nbformat": 4,
 "nbformat_minor": 5
}
